{
 "cells": [
  {
   "cell_type": "code",
   "execution_count": 18,
   "metadata": {},
   "outputs": [
    {
     "data": {
      "text/plain": [
       "'\\nA two-step process is used to find the accounts receivable turnover. First you must find out how quickly a company turns its accounts receivables into cash, using this formula:\\n\\nAccounts receivable turnover = Sales on account ÷Average accounts receivable balance\\n\\nThen you need to find out how quickly a company collects on its accounts by dividing the accounts receivable turnover into 365 to find out the average number of days it takes to collect on accounts.\\n\\nTesting for inventory turnover uses a similar two-step process. First you must find out how quickly inventory turns over during the year, using this formula:\\n\\nInventory turnover ratio = Cost of goods sold ÷Average inventory balance\\n'"
      ]
     },
     "execution_count": 18,
     "metadata": {},
     "output_type": "execute_result"
    }
   ],
   "source": [
    "%matplotlib inline\n",
    "\"\"\"\n",
    "A two-step process is used to find the accounts receivable turnover. First you must find out how quickly a company turns its accounts receivables into cash, using this formula:\n",
    "\n",
    "Accounts receivable turnover = Sales on account ÷Average accounts receivable balance\n",
    "\n",
    "Then you need to find out how quickly a company collects on its accounts by dividing the accounts receivable turnover into 365 to find out the average number of days it takes to collect on accounts.\n",
    "\n",
    "Testing for inventory turnover uses a similar two-step process. First you must find out how quickly inventory turns over during the year, using this formula:\n",
    "\n",
    "Inventory turnover ratio = Cost of goods sold ÷Average inventory balance\n",
    "\"\"\"\n",
    "# Model features:\n",
    "# P/E ratio\n",
    "# ROE\n",
    "# Cash change during period\n",
    "# Capital expenditures\n",
    "\n",
    "# What are we Modeling: returns over option periods\n",
    "\n",
    "# Ideas: increase amount of features by introducing lag\n",
    "# look at deltas of the features instead of the values themselves\n",
    "# for now lets try linreg model, keep it simple."
   ]
  },
  {
   "cell_type": "code",
   "execution_count": 2,
   "metadata": {},
   "outputs": [],
   "source": [
    "import requests as req\n",
    "\n",
    "r = req.get(\"http://www.stockpup.com/data/\")"
   ]
  },
  {
   "cell_type": "code",
   "execution_count": 30,
   "metadata": {},
   "outputs": [],
   "source": [
    "import pandas as pd\n",
    "from bs4 import BeautifulSoup\n",
    "import numpy as np\n",
    "import matplotlib.pyplot as plt"
   ]
  },
  {
   "cell_type": "code",
   "execution_count": 31,
   "metadata": {},
   "outputs": [],
   "source": [
    "soup = BeautifulSoup(r.text, 'html.parser')"
   ]
  },
  {
   "cell_type": "code",
   "execution_count": 32,
   "metadata": {},
   "outputs": [],
   "source": [
    "def get_data_for_symbol(symbol):\n",
    "    return pd.read_csv(\"http://www.stockpup.com/data/%s_quarterly_financial_data.csv\" % symbol)"
   ]
  },
  {
   "cell_type": "code",
   "execution_count": 53,
   "metadata": {},
   "outputs": [],
   "source": [
    "data = get_data_for_symbol(\"AAPL\")"
   ]
  },
  {
   "cell_type": "code",
   "execution_count": 54,
   "metadata": {},
   "outputs": [
    {
     "data": {
      "text/plain": [
       "<matplotlib.collections.PathCollection at 0x1171bcdd8>"
      ]
     },
     "execution_count": 54,
     "metadata": {},
     "output_type": "execute_result"
    },
    {
     "data": {
      "image/png": "[encoded data removed]",
      "text/plain": [
       "<matplotlib.figure.Figure at 0x11719d828>"
      ]
     },
     "metadata": {},
     "output_type": "display_data"
    }
   ],
   "source": [
    "plt.scatter(np.linspace(1, data.shape[0], data.shape[0]), data[::-1][\"P/E ratio\"])"
   ]
  },
  {
   "cell_type": "code",
   "execution_count": 43,
   "metadata": {},
   "outputs": [
    {
     "data": {
      "text/plain": [
       "0      93.50\n",
       "1      97.73\n",
       "2     108.49\n",
       "3      92.17\n",
       "4      80.16\n",
       "5      68.39\n",
       "6      63.03\n",
       "7      60.05\n",
       "8      64.95\n",
       "9      60.87\n",
       "10     55.26\n",
       "11     54.88\n",
       "12     61.74\n",
       "13     63.54\n",
       "14     61.54\n",
       "15     61.41\n",
       "16     55.70\n",
       "17     51.20\n",
       "18     50.58\n",
       "19     49.55\n",
       "20     44.75\n",
       "21     43.98\n",
       "22     37.06\n",
       "23     35.92\n",
       "Name: Price, dtype: float64"
      ]
     },
     "execution_count": 43,
     "metadata": {},
     "output_type": "execute_result"
    }
   ],
   "source": [
    "data['Price']"
   ]
  },
  {
   "cell_type": "code",
   "execution_count": null,
   "metadata": {},
   "outputs": [],
   "source": []
  }
 ],
 "metadata": {
  "kernelspec": {
   "display_name": "Python 3",
   "language": "python",
   "name": "python3"
  },
  "language_info": {
   "codemirror_mode": {
    "name": "ipython",
    "version": 3
   },
   "file_extension": ".py",
   "mimetype": "text/x-python",
   "name": "python",
   "nbconvert_exporter": "python",
   "pygments_lexer": "ipython3",
   "version": "3.6.4"
  }
 },
 "nbformat": 4,
 "nbformat_minor": 2
}
